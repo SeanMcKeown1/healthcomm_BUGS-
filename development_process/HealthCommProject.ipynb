{
 "cells": [
  {
   "cell_type": "markdown",
   "id": "c2a2a7d4-11fd-4333-a97d-bbb97faea9cf",
   "metadata": {},
   "source": [
    "# Health Campaign: Creating Posting Descriptions"
   ]
  },
  {
   "cell_type": "markdown",
   "id": "0578d393-545d-4c7d-bb06-0d5b16c69305",
   "metadata": {},
   "source": [
    ">Process: Ask ChatGPT for a script that will translate well to DALLE creation using CHATGPT created script of the benefits of eating bugs!"
   ]
  },
  {
   "cell_type": "markdown",
   "id": "471e4165-ec59-4403-a034-725b00376b3b",
   "metadata": {},
   "source": [
    "First Prompt: Can you create me a script that could lend to a good pro-eating bugs poster. I want this script to lend itself to DALLE-3 interpretation, so DALLE-3 can turn the script into images. I want the scrip to  involve these eating bugs facts: Eating insects, also known as entomophagy, offers several positive health benefits, making it an intriguing dietary choice. Here are some of the key advantages:\n",
    "\n",
    "1. **High Nutritional Value**: Insects are rich in high-quality protein, essential amino acids, vitamins (such as B12, which is rare in plant foods), and minerals like iron, magnesium, selenium, and zinc.\n",
    "\n",
    "2. **Low in Fat**: Many insects have a lower fat content compared to traditional meat sources. Those that do contain fat often have a healthy ratio of unsaturated to saturated fats, including omega-3 and omega-6 fatty acids, which are beneficial for heart health.\n",
    "\n",
    "3. **Sustainable Protein Source**: Insects require significantly less land, water, and feed compared to traditional livestock, making them a more sustainable source of protein. Their production emits fewer greenhouse gases, contributing to environmental health, which indirectly benefits human health by preserving natural resources.\n",
    "\n",
    "4. **Fiber**: The exoskeletons of insects contain chitin, a fiber that can aid in digestion. Although not directly digestible by humans, it acts as a prebiotic to support gut health.\n",
    "\n",
    "5. **Potential for Weight Management**: Due to their high protein and low-fat content, insects can be a satisfying and nutritious part of a diet that supports weight management.\n",
    "\n",
    "6. **Food Security**: Insects can be farmed with relatively low technology and can help provide a stable source of nutritious food in areas facing food insecurity.\n",
    "\n",
    "7. **Low Risk of Zoonotic Diseases**: Insects are less likely to transmit diseases to humans that are common in traditional livestock, potentially reducing the risk of zoonotic infections.\n",
    "\n",
    "8. **Diverse Dietary Integration**: Insects can be prepared and consumed in various ways, making them a versatile addition to the diet. They can be eaten whole, ground into flour, or incorporated into familiar dishes, offering culinary diversity and innovation.\n",
    "\n",
    "Adopting insects as a food source could address multiple challenges, including nutritional deficiencies, environmental sustainability, and the global search for alternative protein sources. As awareness and acceptance grow, so does the potential for insects to play a significant role in global diets.|"
   ]
  },
  {
   "cell_type": "markdown",
   "id": "1df8790a-0a9a-456f-aa1b-51d0ecdb93ba",
   "metadata": {},
   "source": [
    "Out Put: Sure, here's a script that should lend itself well to DALLE-3 interpretation:\n",
    "\n",
    "1. **Title**: \"The Future of Food: Discover the Benefits of Entomophagy\"\n",
    "   \n",
    "   An image of a futuristic, vibrant cityscape with a billboard that reads \"Insects: The Future of Food.\"\n",
    "\n",
    "2. **High Nutritional Value**\n",
    "\n",
    "   Picture of a mealworm, a cricket, and a grasshopper radiating a glow, with labels indicating their rich protein, essential amino acids, and vitamins.\n",
    "\n",
    "3. **Low in Fat**\n",
    "\n",
    "   A visual comparison between a lean insect and a fatty piece of meat, with a text bubble highlighting the healthier fat ratios in insects.\n",
    "\n",
    "4. **Sustainable Protein Source**\n",
    "\n",
    "   A contrast between a large, water-consuming livestock farm and a small, efficient insect farm, with a green checkmark over the insect farm.\n",
    "\n",
    "5. **Fiber**\n",
    "\n",
    "   A close-up of an insect exoskeleton, with a text bubble explaining how chitin aids in digestion.\n",
    "\n",
    "6. **Potential for Weight Management**\n",
    "\n",
    "   A slim, fit person happily snacking on a bowl of crunchy insects, with a text bubble stating the benefits for weight management.\n",
    "\n",
    "7. **Food Security**\n",
    "\n",
    "   A globe showing regions with food insecurity, and then a hopeful image of a thriving insect farm in one of those areas.\n",
    "\n",
    "8. **Low Risk of Zoonotic Diseases**\n",
    "\n",
    "   A depiction of a \"shield\" over a human figure, with the shield representing the low risk of zoonotic diseases from insects.\n",
    "\n",
    "9. **Diverse Dietary Integration**\n",
    "\n",
    "   A montage of various dishes incorporating insects, such as a pizza with cricket topping, a bowl of mealworm pasta, and a loaf of bread made from insect flour.\n",
    "\n",
    "10. **Conclusion**\n",
    "\n",
    "    An image of a family happily enjoying a meal with insect-based dishes, with a text bubble stating, \"The future of food is here, nutritious, sustainable, and delicious.\"\n",
    "   \n",
    "Remember, the DALLE-3 model may interpret these instructions with some degree of creative freedom!"
   ]
  },
  {
   "cell_type": "markdown",
   "id": "a56c078c-4ec3-4254-b2ee-60b3938c272b",
   "metadata": {},
   "source": [
    "### Health Campaign: Testing Each Poster Description"
   ]
  },
  {
   "cell_type": "markdown",
   "id": "6a9647ad-f417-471c-bdc9-64e0a4ad30a9",
   "metadata": {},
   "source": [
    ">first : High Nutritional Value: Insects are rich in high-quality protein, essential amino acids, vitamins (such as B12, which is rare in plant foods), and minerals like iron, magnesium, selenium, and zinc.\n",
    ">> Tweak: + Make this image a zoomed in image of this photo"
   ]
  },
  {
   "cell_type": "markdown",
   "id": "952b2b1e-9803-4de4-93b5-99defc63be24",
   "metadata": {},
   "source": [
    "![](P1-1.png)"
   ]
  },
  {
   "cell_type": "markdown",
   "id": "53e3899f-7781-426a-b1d0-25c7414e5758",
   "metadata": {},
   "source": [
    "![](P1-2.png)"
   ]
  },
  {
   "cell_type": "markdown",
   "id": "305c7a02-0e98-4a10-8df3-c62c2f570bb1",
   "metadata": {},
   "source": [
    ">Second: High Nutritional Value Picture of a mealworm, a cricket, and a grasshopper radiating a glow, with labels indicating their rich protein, essential amino acids, and vitamins.\n",
    "\n"
   ]
  },
  {
   "cell_type": "markdown",
   "id": "aea87c5c-1180-4862-8d17-3f3211fd905d",
   "metadata": {},
   "source": [
    "![](P2-1.png)"
   ]
  },
  {
   "cell_type": "markdown",
   "id": "c3f4bae3-8b7c-4b36-8b97-648790fcb315",
   "metadata": {},
   "source": [
    ">Third: Low in Fat A visual comparison between a lean insect and a fatty piece of meat, with a text bubble highlighting the healthier fat ratios in insects.\n",
    ">> Tweak: Title: Low in Fat. A visual ....\n",
    ">> > Tweak 2: + \"Make sure each is labeled correctly\" to the end\n",
    ">> > > Final Tweak: - \"make sure each is labeled correctly\" + \"add a label to the meat and cricket respectively\""
   ]
  },
  {
   "cell_type": "markdown",
   "id": "79f23289-2ef7-48cc-af5f-b0cab9139f31",
   "metadata": {},
   "source": [
    "![](P3-1.png)"
   ]
  },
  {
   "cell_type": "markdown",
   "id": "4dd963d7-85ca-40dc-8709-15986f486c14",
   "metadata": {},
   "source": [
    "![](P3-2.png)"
   ]
  },
  {
   "cell_type": "markdown",
   "id": "24a41bd1-b7e0-499f-b53e-472a6a8a2689",
   "metadata": {},
   "source": [
    "![](P3-3.png)"
   ]
  },
  {
   "cell_type": "markdown",
   "id": "5e042987-0279-43e8-83f8-46f0a220f2fe",
   "metadata": {},
   "source": [
    "![](P3-4.png)"
   ]
  },
  {
   "cell_type": "markdown",
   "id": "595f9ff7-3f0d-4b19-a687-7322051c7c6c",
   "metadata": {},
   "source": [
    ">Fifth: Title: Fiber. A close-up of an insect exoskeleton, with a text bubble explaining how chitin aids in digestion..\n",
    ">> tweak: + \"Show a digestive track working smoothly next to it.\" to the end\n",
    ">> > Tweak 2: + \"make it a poster\"\n",
    ">> > > Final Tweak 3\" + \"...that really shows how chitin aids digestion\""
   ]
  },
  {
   "cell_type": "markdown",
   "id": "9320a51c-4e22-4361-b4f0-f2c96d356e76",
   "metadata": {},
   "source": [
    "![](P5-1.png)"
   ]
  },
  {
   "cell_type": "markdown",
   "id": "bb78a77a-474e-4b96-9cfc-de74331db3e4",
   "metadata": {},
   "source": [
    "![](P5-2.png)"
   ]
  },
  {
   "cell_type": "markdown",
   "id": "95c35aaf-a8d8-4cc2-b0b1-a6c3dc6f3d2f",
   "metadata": {},
   "source": [
    "![](P5-3.png)"
   ]
  },
  {
   "cell_type": "markdown",
   "id": "aaba852d-5bc2-459e-a77a-e29d24c7a083",
   "metadata": {},
   "source": [
    "![](P5-4.png)"
   ]
  },
  {
   "cell_type": "markdown",
   "id": "15a92e13-39d8-4a60-9ff9-a62b0125b3c1",
   "metadata": {},
   "source": [
    ">Fourth: Title: Sustainable Protein Source. A contrast between a large, water-consuming livestock farm and a small, efficient insect farm, with a green checkmark over the insect farm.\n",
    ">> Tweak: Title: Sustainable Protein Source. A contrast between a large, water-consuming livestock farm and a small versus an efficient insect farm, with a green checkmark over the insect farm. Make it a demonstrative poster."
   ]
  },
  {
   "cell_type": "markdown",
   "id": "be83240e-3188-4068-9328-bb486a2fd968",
   "metadata": {},
   "source": [
    "![](P4-1.PNG)"
   ]
  },
  {
   "cell_type": "markdown",
   "id": "84edc3b1-7e70-4279-acab-87fc2f587f48",
   "metadata": {},
   "source": [
    "![](P4.2.png)"
   ]
  },
  {
   "cell_type": "markdown",
   "id": "0b512842-a304-44a3-964e-ef25260c751b",
   "metadata": {},
   "source": [
    "> Sixth: Potential for Weight Management A slim, fit person happily snacking on a bowl of crunchy insects, with a text bubble stating the benefits for weight management. Design as a informational poster.\n",
    "> > Tweak: + \"Make the language definitive\"\n",
    "> > > Tweak 2: > Sixth: Potential for Weight Management A slim, fit person happily snacking on a bowl of crunchy insects, with a text bubble stating 'Bugs are healthy!'. Design as a informational poster. Make the language definitive.\n",
    "> > > > Tweak 3: > Sixth: Potential for Weight Management A slim, fit person happily snacking on a bowl of crunchy insects, with a text bubble stating 'Bugs are healthy!'. Design as a informational poster. Make the language definitive and the person friendly/approachable with bright colors.\n",
    "\n"
   ]
  },
  {
   "cell_type": "markdown",
   "id": "82159d5b-51ad-4788-8774-524762a8f4e2",
   "metadata": {},
   "source": [
    "![](P6-1.png)"
   ]
  },
  {
   "cell_type": "markdown",
   "id": "e8b60765-cc18-4fa2-b499-732b87086850",
   "metadata": {},
   "source": [
    "![](P6-2.png)"
   ]
  },
  {
   "cell_type": "markdown",
   "id": "9a058d72-9581-4c1d-9c95-3093d8db963b",
   "metadata": {},
   "source": [
    "![](P6-3.png)"
   ]
  },
  {
   "cell_type": "markdown",
   "id": "47f2ec5f-d07c-42e5-bd28-14fed94693ef",
   "metadata": {},
   "source": [
    "![](P6-4.png)"
   ]
  },
  {
   "cell_type": "markdown",
   "id": "3c9d4624-b64f-4fa8-8ece-e79ca4abb1cf",
   "metadata": {},
   "source": [
    ">Seventh: Title: Food Security. Create A globe showing regions with food insecurity, and then a hopeful image of a thriving insect farm in one of those areas.\n",
    ">> Tweak: Title: Food Security. Create A globe showing regions with food insecurity, and then a hopeful image of a thriving insect farm in one of those areas. Include the title, and make it clear that the bug farms are saving the world\n",
    ">> > Tweak 2: Title: Food Security. Create A globe showing regions with food insecurity, and then a hopeful image of a thriving insect farm in one of those areas. Include the title, and demonstrate how the bug farms provide food to starving people."
   ]
  },
  {
   "cell_type": "markdown",
   "id": "3c859d13-ec2e-41a5-a769-5abb41cf1934",
   "metadata": {},
   "source": [
    "![](P7-1.png)"
   ]
  },
  {
   "cell_type": "markdown",
   "id": "6b9d600d-0398-4f8c-b891-ebadca041178",
   "metadata": {},
   "source": [
    "![](P7-2.png)"
   ]
  },
  {
   "cell_type": "markdown",
   "id": "917a2a12-dbf2-4a28-9186-e10a4252a7d7",
   "metadata": {},
   "source": [
    "![](P7-3.png)"
   ]
  },
  {
   "cell_type": "markdown",
   "id": "06a95de3-257d-4bbc-ab35-e16dc4b7c386",
   "metadata": {},
   "source": [
    "> eighth: Title: Low Risk of Zoonotic Diseases. A depiction of a “shield” over a human figure, with the shield representing the low risk of zoonotic diseases from insects.\n",
    "> > Tweak: Title: Low Risk of Zoonotic Diseases. A depiction of a “shield” over a human figure, with the shield representing the low risk of zoonotic diseases from insects. Include the title in the image, and make it in the form of a informative poster. "
   ]
  },
  {
   "cell_type": "markdown",
   "id": "facd069c-9b6a-4df1-b641-d9c1c89483f3",
   "metadata": {},
   "source": [
    "![](P8-1.png)"
   ]
  },
  {
   "cell_type": "markdown",
   "id": "69174cd2-ff1f-4ee0-b63d-e61d4a50f851",
   "metadata": {},
   "source": [
    "![](P8-2.png)"
   ]
  },
  {
   "cell_type": "markdown",
   "id": "a8721c5b-9132-4868-93be-275eb0411411",
   "metadata": {},
   "source": [
    ">Ninth: Title: Diverse Dietary Integration. A montage of various dishes incorporating insects, such as a pizza with cricket topping, a bowl of mealworm pasta, and a loaf of bread made from insect flour.\n",
    ">> Tweak: Title: Diverse Dietary Integration. A montage of various dishes incorporating insects, such as a pizza with cricket topping, a bowl of mealworm pasta, and a loaf of bread made from insect flour. Make this in the form of an informational poster\n",
    ">> >Tweak 2: + \"Make it bright and inviting\""
   ]
  },
  {
   "cell_type": "markdown",
   "id": "abacff6b-5e58-467f-8412-6957614d9533",
   "metadata": {},
   "source": [
    "![](P9-1.png)"
   ]
  },
  {
   "cell_type": "markdown",
   "id": "e029e579-2233-424b-98fd-ff69e80f536b",
   "metadata": {},
   "source": [
    "![](P9-2.png)"
   ]
  },
  {
   "cell_type": "markdown",
   "id": "ee37ff66-297e-46bf-8dbf-7e5e7c8725c6",
   "metadata": {},
   "source": [
    ">Tenth: An image of a family happily enjoying a meal with insect-based dishes, with a text bubble stating, “The future of food is here, nutritious, sustainable, and delicious.”"
   ]
  },
  {
   "cell_type": "markdown",
   "id": "2b051497-c58b-49fc-8a03-27cc4a934371",
   "metadata": {},
   "source": [
    "![](P10.png)"
   ]
  },
  {
   "cell_type": "markdown",
   "id": "d96d6d3a-e8d5-4efa-a40e-f470c67cc5a6",
   "metadata": {},
   "source": [
    "### Images for Campaign created, What Next?"
   ]
  },
  {
   "cell_type": "markdown",
   "id": "0aeb30c1-aa85-40ca-ab73-f25ce2e6d8cd",
   "metadata": {},
   "source": [
    "> We have a script for each talking point, and we have a visual aid for each talking point.\n",
    "> >  Now we need to get an A.I. to review how well these work!"
   ]
  },
  {
   "cell_type": "code",
   "execution_count": null,
   "id": "03590681-0754-44db-b915-14a022a8b242",
   "metadata": {},
   "outputs": [],
   "source": []
  }
 ],
 "metadata": {
  "citation-manager": {
   "items": {}
  },
  "kernelspec": {
   "display_name": "Python 3.8",
   "language": "python",
   "name": "python3"
  },
  "language_info": {
   "codemirror_mode": {
    "name": "ipython",
    "version": 3
   },
   "file_extension": ".py",
   "mimetype": "text/x-python",
   "name": "python",
   "nbconvert_exporter": "python",
   "pygments_lexer": "ipython3",
   "version": "3.8.8"
  }
 },
 "nbformat": 4,
 "nbformat_minor": 5
}
